{
 "cells": [
  {
   "cell_type": "markdown",
   "id": "cf9d0f5a-504d-4e13-b311-4c70fec1238c",
   "metadata": {},
   "source": [
    "`Analysis` of `consumer electronics` will be made in a given electronics product pricing dataset below. In this project `price changing over the years`,`product categories depeding on prices`,  `primary products`, `different consumers and brands` etc. will be investigated based on related dataset. \n",
    "\n",
    "To get a better understanding of the dataset some necessary modules will be imported below."
   ]
  },
  {
   "cell_type": "markdown",
   "id": "3e143ee3-6256-47c6-9569-9b7fd1dd98c8",
   "metadata": {},
   "source": [
    "<b> About Dataset"
   ]
  },
  {
   "cell_type": "markdown",
   "id": "c228e7d9-3498-40ce-bad7-963b724eec8e",
   "metadata": {},
   "source": [
    "This dataset contains pricing information of electronic products. There are 25 columns including the target variable. Some of the variables which will be used on data analysis process are listed below:\n",
    "\n",
    "- prices.availability: if the product is available at the given price\n",
    "- prices.condition: condition of the product\n",
    "- prices.currency: price currency\n",
    "- prices.isSale: Is the product on sale at given price\n",
    "- prices.merchant: The merchant\n",
    "- imageURLs: product image url\n",
    "- manufacturer: Manufacturer of the product\n",
    "- manufacturerNumber: Manufacturer number\n",
    "- name: Name of the product\n",
    "- primaryCategories: Primary category of the product\n",
    "- weight: weight of the product"
   ]
  },
  {
   "cell_type": "markdown",
   "id": "6168d7e3-3cde-4320-8321-74fccc34dafc",
   "metadata": {},
   "source": [
    "<b> Importing Modules"
   ]
  },
  {
   "cell_type": "code",
   "execution_count": 347,
   "id": "8f7f1549-8e0e-49e9-b3e8-d41a35880209",
   "metadata": {},
   "outputs": [],
   "source": [
    "import pandas as pd\n",
    "import numpy as np\n",
    "import matplotlib.pyplot as plt\n",
    "import seaborn as sns\n",
    "from sklearn.preprocessing import LabelEncoder\n",
    "from sklearn.preprocessing import OneHotEncoder"
   ]
  },
  {
   "cell_type": "markdown",
   "id": "ba9ebbf2-fa23-40fe-92c2-1af8bb4134b5",
   "metadata": {
    "tags": []
   },
   "source": [
    "## Data Preprocessing and Understanding"
   ]
  },
  {
   "cell_type": "code",
   "execution_count": 348,
   "id": "aab478ca-02ac-4a0c-ba97-539ef38bb2cf",
   "metadata": {},
   "outputs": [],
   "source": [
    "# reading csv file into DataFrame\n",
    "df = pd.read_csv('electronics_products_pricing.csv')"
   ]
  },
  {
   "cell_type": "code",
   "execution_count": 349,
   "id": "446a4daf-dfab-4574-84ab-bab7e5737bea",
   "metadata": {},
   "outputs": [],
   "source": [
    "# printing out all columns of DataFrame for better understanding\n",
    "pd.set_option('display.max_columns', None)"
   ]
  },
  {
   "cell_type": "code",
   "execution_count": 351,
   "id": "f5301270-dde1-44df-b0f6-316c276fb99e",
   "metadata": {
    "scrolled": true,
    "tags": []
   },
   "outputs": [
    {
     "data": {
      "text/html": [
       "<div>\n",
       "<style scoped>\n",
       "    .dataframe tbody tr th:only-of-type {\n",
       "        vertical-align: middle;\n",
       "    }\n",
       "\n",
       "    .dataframe tbody tr th {\n",
       "        vertical-align: top;\n",
       "    }\n",
       "\n",
       "    .dataframe thead th {\n",
       "        text-align: right;\n",
       "    }\n",
       "</style>\n",
       "<table border=\"1\" class=\"dataframe\">\n",
       "  <thead>\n",
       "    <tr style=\"text-align: right;\">\n",
       "      <th></th>\n",
       "      <th>id</th>\n",
       "      <th>prices.availability</th>\n",
       "      <th>prices.condition</th>\n",
       "      <th>prices.currency</th>\n",
       "      <th>prices.dateSeen</th>\n",
       "      <th>prices.isSale</th>\n",
       "      <th>prices.merchant</th>\n",
       "      <th>prices.shipping</th>\n",
       "      <th>prices.sourceURLs</th>\n",
       "      <th>asins</th>\n",
       "      <th>brand</th>\n",
       "      <th>categories</th>\n",
       "      <th>dateAdded</th>\n",
       "      <th>dateUpdated</th>\n",
       "      <th>ean</th>\n",
       "      <th>imageURLs</th>\n",
       "      <th>keys</th>\n",
       "      <th>manufacturer</th>\n",
       "      <th>manufacturerNumber</th>\n",
       "      <th>name</th>\n",
       "      <th>primaryCategories</th>\n",
       "      <th>sourceURLs</th>\n",
       "      <th>upc</th>\n",
       "      <th>weight</th>\n",
       "      <th>price</th>\n",
       "    </tr>\n",
       "  </thead>\n",
       "  <tbody>\n",
       "    <tr>\n",
       "      <th>0</th>\n",
       "      <td>AVphrugr1cnluZ0-FOeH</td>\n",
       "      <td>Yes</td>\n",
       "      <td>New</td>\n",
       "      <td>USD</td>\n",
       "      <td>2017-05-10T20:00:00Z,2017-05-09T15:00:00Z</td>\n",
       "      <td>False</td>\n",
       "      <td>Bestbuy.com</td>\n",
       "      <td>NaN</td>\n",
       "      <td>http://www.bestbuy.com/site/products/7100293.p...</td>\n",
       "      <td>B00I9HD8PK</td>\n",
       "      <td>Grace Digital</td>\n",
       "      <td>Electronics,Home Audio &amp; Theater,Home Audio,Al...</td>\n",
       "      <td>2015-11-01T00:57:52Z</td>\n",
       "      <td>2018-02-13T19:46:08Z</td>\n",
       "      <td>NaN</td>\n",
       "      <td>https://i5.walmartimages.com/asr/dd5f42c4-076c...</td>\n",
       "      <td>819127010485,ecoxgearecostonebluetoothspeaker/...</td>\n",
       "      <td>Ecoxgear</td>\n",
       "      <td>GDI-EGST701</td>\n",
       "      <td>EcoXGear Ecostone Bluetooth Speaker</td>\n",
       "      <td>Electronics</td>\n",
       "      <td>http://www.walmart.com/ip/EcoXGear-Ecostone-Bl...</td>\n",
       "      <td>8.19E+11</td>\n",
       "      <td>3 pounds</td>\n",
       "      <td>92.99</td>\n",
       "    </tr>\n",
       "    <tr>\n",
       "      <th>1</th>\n",
       "      <td>AVrI6FDbv8e3D1O-lm4R</td>\n",
       "      <td>Yes</td>\n",
       "      <td>New</td>\n",
       "      <td>USD</td>\n",
       "      <td>2017-10-10T02:00:00Z,2017-08-12T03:00:00Z,2017...</td>\n",
       "      <td>False</td>\n",
       "      <td>Bestbuy.com</td>\n",
       "      <td>NaN</td>\n",
       "      <td>https://www.bestbuy.com/site/lenovo-100s-14ibr...</td>\n",
       "      <td>B06ZY63J8H</td>\n",
       "      <td>Lenovo</td>\n",
       "      <td>Electronics,Computers,Laptops,Laptops By Brand...</td>\n",
       "      <td>2017-03-13T18:22:32Z</td>\n",
       "      <td>2018-01-30T06:06:16Z</td>\n",
       "      <td>NaN</td>\n",
       "      <td>https://i5.walmartimages.com/asr/fcc50cce-a3c1...</td>\n",
       "      <td>190793918948,lenovo100s14ibr14laptopintelceler...</td>\n",
       "      <td>NaN</td>\n",
       "      <td>100s-14ibr</td>\n",
       "      <td>Lenovo - 100S-14IBR 14 Laptop - Intel Celeron ...</td>\n",
       "      <td>Electronics</td>\n",
       "      <td>https://www.walmart.com/ip/Lenovo-100S-14IBR-1...</td>\n",
       "      <td>1.91E+11</td>\n",
       "      <td>4.3 pounds</td>\n",
       "      <td>229.99</td>\n",
       "    </tr>\n",
       "    <tr>\n",
       "      <th>2</th>\n",
       "      <td>AVpiLlubilAPnD_xBoTa</td>\n",
       "      <td>Yes</td>\n",
       "      <td>New</td>\n",
       "      <td>USD</td>\n",
       "      <td>2017-10-10T19:00:00Z,2017-09-12T14:00:00Z,2017...</td>\n",
       "      <td>False</td>\n",
       "      <td>Bestbuy.com</td>\n",
       "      <td>NaN</td>\n",
       "      <td>https://www.bestbuy.com/site/house-of-marley-s...</td>\n",
       "      <td>B00G3P9UMU</td>\n",
       "      <td>House of Marley</td>\n",
       "      <td>Headphones,Consumer Electronics,Portable Audio...</td>\n",
       "      <td>2014-10-28T18:47:20Z</td>\n",
       "      <td>2018-05-16T20:23:54Z</td>\n",
       "      <td>8.47E+11</td>\n",
       "      <td>https://i5.walmartimages.com/asr/c124aa15-b9e3...</td>\n",
       "      <td>0846885007037,houseofmarleysmilejamaicainearea...</td>\n",
       "      <td>House Of Marley</td>\n",
       "      <td>EM-JE041-MI</td>\n",
       "      <td>House of Marley Smile Jamaica In-Ear Earbuds</td>\n",
       "      <td>Electronics</td>\n",
       "      <td>https://www.walmart.com/ip/House-of-Marley-Smi...</td>\n",
       "      <td>8.47E+11</td>\n",
       "      <td>0.6 ounces</td>\n",
       "      <td>16.99</td>\n",
       "    </tr>\n",
       "    <tr>\n",
       "      <th>3</th>\n",
       "      <td>AVpgQP5vLJeJML43LQbd</td>\n",
       "      <td>Yes</td>\n",
       "      <td>New</td>\n",
       "      <td>USD</td>\n",
       "      <td>2017-09-08T05:00:00Z,2017-09-18T13:00:00Z,2017...</td>\n",
       "      <td>False</td>\n",
       "      <td>Bestbuy.com</td>\n",
       "      <td>NaN</td>\n",
       "      <td>https://www.bestbuy.com/site/products/6311012....</td>\n",
       "      <td>B00TTWZFFA</td>\n",
       "      <td>Sony</td>\n",
       "      <td>Electronics,Home Audio &amp; Theater,Home Audio,Al...</td>\n",
       "      <td>2015-11-06T00:24:21Z</td>\n",
       "      <td>2018-01-30T03:06:18Z</td>\n",
       "      <td>NaN</td>\n",
       "      <td>https://i5.walmartimages.com/asr/1be435f7-5f3a...</td>\n",
       "      <td>sonyultraportablebluetoothspeaker/sosrsx11bk,s...</td>\n",
       "      <td>Sony</td>\n",
       "      <td>SRSX11/BLK</td>\n",
       "      <td>Sony Ultra-Portable Bluetooth Speaker</td>\n",
       "      <td>Electronics</td>\n",
       "      <td>https://www.walmart.com/ip/Sony-Ultra-Portable...</td>\n",
       "      <td>27242886599</td>\n",
       "      <td>1 pounds</td>\n",
       "      <td>69.99</td>\n",
       "    </tr>\n",
       "    <tr>\n",
       "      <th>4</th>\n",
       "      <td>AV1YDsmoGV-KLJ3adcbe</td>\n",
       "      <td>More on the Way</td>\n",
       "      <td>New</td>\n",
       "      <td>USD</td>\n",
       "      <td>2017-12-05T13:00:00Z</td>\n",
       "      <td>True</td>\n",
       "      <td>bhphotovideo.com</td>\n",
       "      <td>Free Expedited Shipping for most orders over $49</td>\n",
       "      <td>https://www.bhphotovideo.com/c/product/1105014...</td>\n",
       "      <td>B00MHPAF38</td>\n",
       "      <td>Sony</td>\n",
       "      <td>Digital Cameras,Cameras &amp; Photo,Used:Digital P...</td>\n",
       "      <td>2017-07-18T23:35:50Z</td>\n",
       "      <td>2018-07-26T15:58:38Z</td>\n",
       "      <td>NaN</td>\n",
       "      <td>http://i.ebayimg.com/thumbs/images/g/TBUAAOSwd...</td>\n",
       "      <td>sonyalphaa5100digitalcamerakitwith1650mmlenswh...</td>\n",
       "      <td>NaN</td>\n",
       "      <td>ILCE5100L/W</td>\n",
       "      <td>Alpha a5100 Mirrorless Digital Camera with 16-...</td>\n",
       "      <td>Electronics</td>\n",
       "      <td>https://reviews.bestbuy.com/3545/8429343/revie...</td>\n",
       "      <td>27242883246</td>\n",
       "      <td>9.98 oz 4.09 oz</td>\n",
       "      <td>846.00</td>\n",
       "    </tr>\n",
       "  </tbody>\n",
       "</table>\n",
       "</div>"
      ],
      "text/plain": [
       "                     id prices.availability prices.condition prices.currency  \\\n",
       "0  AVphrugr1cnluZ0-FOeH                 Yes              New             USD   \n",
       "1  AVrI6FDbv8e3D1O-lm4R                 Yes              New             USD   \n",
       "2  AVpiLlubilAPnD_xBoTa                 Yes              New             USD   \n",
       "3  AVpgQP5vLJeJML43LQbd                 Yes              New             USD   \n",
       "4  AV1YDsmoGV-KLJ3adcbe     More on the Way              New             USD   \n",
       "\n",
       "                                     prices.dateSeen  prices.isSale  \\\n",
       "0          2017-05-10T20:00:00Z,2017-05-09T15:00:00Z          False   \n",
       "1  2017-10-10T02:00:00Z,2017-08-12T03:00:00Z,2017...          False   \n",
       "2  2017-10-10T19:00:00Z,2017-09-12T14:00:00Z,2017...          False   \n",
       "3  2017-09-08T05:00:00Z,2017-09-18T13:00:00Z,2017...          False   \n",
       "4                               2017-12-05T13:00:00Z           True   \n",
       "\n",
       "    prices.merchant                                   prices.shipping  \\\n",
       "0       Bestbuy.com                                               NaN   \n",
       "1       Bestbuy.com                                               NaN   \n",
       "2       Bestbuy.com                                               NaN   \n",
       "3       Bestbuy.com                                               NaN   \n",
       "4  bhphotovideo.com  Free Expedited Shipping for most orders over $49   \n",
       "\n",
       "                                   prices.sourceURLs       asins  \\\n",
       "0  http://www.bestbuy.com/site/products/7100293.p...  B00I9HD8PK   \n",
       "1  https://www.bestbuy.com/site/lenovo-100s-14ibr...  B06ZY63J8H   \n",
       "2  https://www.bestbuy.com/site/house-of-marley-s...  B00G3P9UMU   \n",
       "3  https://www.bestbuy.com/site/products/6311012....  B00TTWZFFA   \n",
       "4  https://www.bhphotovideo.com/c/product/1105014...  B00MHPAF38   \n",
       "\n",
       "             brand                                         categories  \\\n",
       "0    Grace Digital  Electronics,Home Audio & Theater,Home Audio,Al...   \n",
       "1           Lenovo  Electronics,Computers,Laptops,Laptops By Brand...   \n",
       "2  House of Marley  Headphones,Consumer Electronics,Portable Audio...   \n",
       "3             Sony  Electronics,Home Audio & Theater,Home Audio,Al...   \n",
       "4             Sony  Digital Cameras,Cameras & Photo,Used:Digital P...   \n",
       "\n",
       "              dateAdded           dateUpdated       ean  \\\n",
       "0  2015-11-01T00:57:52Z  2018-02-13T19:46:08Z       NaN   \n",
       "1  2017-03-13T18:22:32Z  2018-01-30T06:06:16Z       NaN   \n",
       "2  2014-10-28T18:47:20Z  2018-05-16T20:23:54Z  8.47E+11   \n",
       "3  2015-11-06T00:24:21Z  2018-01-30T03:06:18Z       NaN   \n",
       "4  2017-07-18T23:35:50Z  2018-07-26T15:58:38Z       NaN   \n",
       "\n",
       "                                           imageURLs  \\\n",
       "0  https://i5.walmartimages.com/asr/dd5f42c4-076c...   \n",
       "1  https://i5.walmartimages.com/asr/fcc50cce-a3c1...   \n",
       "2  https://i5.walmartimages.com/asr/c124aa15-b9e3...   \n",
       "3  https://i5.walmartimages.com/asr/1be435f7-5f3a...   \n",
       "4  http://i.ebayimg.com/thumbs/images/g/TBUAAOSwd...   \n",
       "\n",
       "                                                keys     manufacturer  \\\n",
       "0  819127010485,ecoxgearecostonebluetoothspeaker/...         Ecoxgear   \n",
       "1  190793918948,lenovo100s14ibr14laptopintelceler...              NaN   \n",
       "2  0846885007037,houseofmarleysmilejamaicainearea...  House Of Marley   \n",
       "3  sonyultraportablebluetoothspeaker/sosrsx11bk,s...             Sony   \n",
       "4  sonyalphaa5100digitalcamerakitwith1650mmlenswh...              NaN   \n",
       "\n",
       "  manufacturerNumber                                               name  \\\n",
       "0        GDI-EGST701                EcoXGear Ecostone Bluetooth Speaker   \n",
       "1         100s-14ibr  Lenovo - 100S-14IBR 14 Laptop - Intel Celeron ...   \n",
       "2        EM-JE041-MI       House of Marley Smile Jamaica In-Ear Earbuds   \n",
       "3         SRSX11/BLK              Sony Ultra-Portable Bluetooth Speaker   \n",
       "4        ILCE5100L/W  Alpha a5100 Mirrorless Digital Camera with 16-...   \n",
       "\n",
       "  primaryCategories                                         sourceURLs  \\\n",
       "0       Electronics  http://www.walmart.com/ip/EcoXGear-Ecostone-Bl...   \n",
       "1       Electronics  https://www.walmart.com/ip/Lenovo-100S-14IBR-1...   \n",
       "2       Electronics  https://www.walmart.com/ip/House-of-Marley-Smi...   \n",
       "3       Electronics  https://www.walmart.com/ip/Sony-Ultra-Portable...   \n",
       "4       Electronics  https://reviews.bestbuy.com/3545/8429343/revie...   \n",
       "\n",
       "           upc           weight   price  \n",
       "0     8.19E+11         3 pounds   92.99  \n",
       "1     1.91E+11       4.3 pounds  229.99  \n",
       "2     8.47E+11       0.6 ounces   16.99  \n",
       "3  27242886599         1 pounds   69.99  \n",
       "4  27242883246  9.98 oz 4.09 oz  846.00  "
      ]
     },
     "execution_count": 351,
     "metadata": {},
     "output_type": "execute_result"
    }
   ],
   "source": [
    "# inspecting first five rows of dataset\n",
    "df.head()"
   ]
  },
  {
   "cell_type": "markdown",
   "id": "b43c8939-5dad-4394-90bf-1660280994fa",
   "metadata": {
    "tags": []
   },
   "source": [
    "## Exploratory Data Analysis (EDA) "
   ]
  },
  {
   "cell_type": "markdown",
   "id": "38806a6c-6d4b-41d2-8354-0c4247ca9144",
   "metadata": {},
   "source": [
    "We can quickly check for `data types` and to make sure we do not have any missing values which can prevent the modeling from running correctly by using `.info()` method. As we have seen below, there are some `missing` or `NaN` values on the dataset. Some features will be removed from the datasets after checking `duplicated` and `unknown` or `NaN` values in the dataset. To do this we can use the `.duplicated().sum()` and `isnull().sum()` attributes to find those values on columns. The output will return to number of missing values below. Then, let's investigate some statistical measures in a given dataset."
   ]
  },
  {
   "cell_type": "code",
   "execution_count": 353,
   "id": "0ad00f76-29c2-445c-8ff2-7e88b138fba7",
   "metadata": {},
   "outputs": [
    {
     "name": "stdout",
     "output_type": "stream",
     "text": [
      "<class 'pandas.core.frame.DataFrame'>\n",
      "RangeIndex: 5436 entries, 0 to 5435\n",
      "Data columns (total 25 columns):\n",
      " #   Column               Non-Null Count  Dtype  \n",
      "---  ------               --------------  -----  \n",
      " 0   id                   5436 non-null   object \n",
      " 1   prices.availability  5436 non-null   object \n",
      " 2   prices.condition     5436 non-null   object \n",
      " 3   prices.currency      5436 non-null   object \n",
      " 4   prices.dateSeen      5436 non-null   object \n",
      " 5   prices.isSale        5436 non-null   bool   \n",
      " 6   prices.merchant      5436 non-null   object \n",
      " 7   prices.shipping      3199 non-null   object \n",
      " 8   prices.sourceURLs    5436 non-null   object \n",
      " 9   asins                5436 non-null   object \n",
      " 10  brand                5436 non-null   object \n",
      " 11  categories           5436 non-null   object \n",
      " 12  dateAdded            5436 non-null   object \n",
      " 13  dateUpdated          5436 non-null   object \n",
      " 14  ean                  1175 non-null   object \n",
      " 15  imageURLs            5436 non-null   object \n",
      " 16  keys                 5436 non-null   object \n",
      " 17  manufacturer         2477 non-null   object \n",
      " 18  manufacturerNumber   5436 non-null   object \n",
      " 19  name                 5436 non-null   object \n",
      " 20  primaryCategories    5436 non-null   object \n",
      " 21  sourceURLs           5436 non-null   object \n",
      " 22  upc                  5436 non-null   object \n",
      " 23  weight               5436 non-null   object \n",
      " 24  price                5436 non-null   float64\n",
      "dtypes: bool(1), float64(1), object(23)\n",
      "memory usage: 1.0+ MB\n"
     ]
    }
   ],
   "source": [
    "# checking the columns, number of data points and data types\n",
    "df.info()"
   ]
  },
  {
   "cell_type": "markdown",
   "id": "893f9dcd-ac5c-4cf6-8069-2a1b20a7a61f",
   "metadata": {},
   "source": [
    "<b> Checking `duplicated values` on a dataset. There is no duplicated values."
   ]
  },
  {
   "cell_type": "code",
   "execution_count": 354,
   "id": "1d75feea-651e-4d88-929c-28e2110aa987",
   "metadata": {},
   "outputs": [
    {
     "name": "stdout",
     "output_type": "stream",
     "text": [
      "There are 0 duplicates in the Dataset\n"
     ]
    }
   ],
   "source": [
    "print('There are {} duplicates in the Dataset'.format(df.duplicated().sum()))"
   ]
  },
  {
   "cell_type": "markdown",
   "id": "228aa838-a5fb-46ab-af86-c6ad1a272a28",
   "metadata": {},
   "source": [
    "<b> Checking `missing` or `NaN` values and `visualizing` them by using `heatmap` on a dataset. "
   ]
  },
  {
   "cell_type": "code",
   "execution_count": 356,
   "id": "d67a28ec-bcbe-42cc-a6c9-5b9d87ccc8cb",
   "metadata": {},
   "outputs": [
    {
     "data": {
      "text/plain": [
       "id                        0\n",
       "prices.availability       0\n",
       "prices.condition          0\n",
       "prices.currency           0\n",
       "prices.dateSeen           0\n",
       "prices.isSale             0\n",
       "prices.merchant           0\n",
       "prices.shipping        2237\n",
       "prices.sourceURLs         0\n",
       "asins                     0\n",
       "brand                     0\n",
       "categories                0\n",
       "dateAdded                 0\n",
       "dateUpdated               0\n",
       "ean                    4261\n",
       "imageURLs                 0\n",
       "keys                      0\n",
       "manufacturer           2959\n",
       "manufacturerNumber        0\n",
       "name                      0\n",
       "primaryCategories         0\n",
       "sourceURLs                0\n",
       "upc                       0\n",
       "weight                    0\n",
       "price                     0\n",
       "dtype: int64"
      ]
     },
     "execution_count": 356,
     "metadata": {},
     "output_type": "execute_result"
    }
   ],
   "source": [
    "# checking missing values\n",
    "df.isnull().sum()"
   ]
  },
  {
   "cell_type": "code",
   "execution_count": 361,
   "id": "dabc8576-7e97-49ec-b4be-fb1d8cfd625f",
   "metadata": {},
   "outputs": [
    {
     "data": {
      "image/png": "[encoded data removed]",
      "text/plain": [
       "<Figure size 1080x504 with 1 Axes>"
      ]
     },
     "metadata": {
      "needs_background": "light"
     },
     "output_type": "display_data"
    }
   ],
   "source": [
    "# visualizing missing values using heatmap\n",
    "plt.figure(figsize = (15, 7))\n",
    "\n",
    "sns.heatmap(data = df.isnull() , cmap = \"magma\" , cbar = False , \n",
    "            yticklabels=False , xticklabels=True)\n",
    "\n",
    "plt.show()"
   ]
  },
  {
   "cell_type": "code",
   "execution_count": 362,
   "id": "806bd3e3-41be-4a8d-9e8d-4ec903e98136",
   "metadata": {},
   "outputs": [
    {
     "data": {
      "text/plain": [
       "Index(['id', 'prices.availability', 'prices.condition', 'prices.currency',\n",
       "       'prices.dateSeen', 'prices.isSale', 'prices.merchant',\n",
       "       'prices.shipping', 'prices.sourceURLs', 'asins', 'brand', 'categories',\n",
       "       'dateAdded', 'dateUpdated', 'ean', 'imageURLs', 'keys', 'manufacturer',\n",
       "       'manufacturerNumber', 'name', 'primaryCategories', 'sourceURLs', 'upc',\n",
       "       'weight', 'price'],\n",
       "      dtype='object')"
      ]
     },
     "execution_count": 362,
     "metadata": {},
     "output_type": "execute_result"
    }
   ],
   "source": [
    "df.columns"
   ]
  },
  {
   "cell_type": "markdown",
   "id": "13b3846c-ee39-4e34-86a7-53fe6cec416b",
   "metadata": {},
   "source": [
    "<b> After visualizing the dataset we can see that we have some missing values on `prices.shipping`, `ean` and `manufacturer` columns. If there are null values more than `30 %` for each column, it can be droped `statistically` by using `drop.na` attribute."
   ]
  },
  {
   "cell_type": "code",
   "execution_count": 363,
   "id": "492dffe5-a2d7-4e4f-a829-6260242afb39",
   "metadata": {},
   "outputs": [],
   "source": [
    "df.dropna(axis =1 , thresh=df.shape[0] * 0.70 , inplace = True)"
   ]
  },
  {
   "cell_type": "markdown",
   "id": "dfceb0da-1bdf-45ae-a226-358001bd25d4",
   "metadata": {},
   "source": [
    "<b> After removing the missing values from dataset we will check them lastly below. We have seen that there is no `NaN` values on a columns"
   ]
  },
  {
   "cell_type": "code",
   "execution_count": 364,
   "id": "d99a6ea9-ed60-4a77-a726-f18bc84f9eb7",
   "metadata": {},
   "outputs": [
    {
     "data": {
      "text/plain": [
       "id                     0\n",
       "prices.availability    0\n",
       "prices.condition       0\n",
       "prices.currency        0\n",
       "prices.dateSeen        0\n",
       "prices.isSale          0\n",
       "prices.merchant        0\n",
       "prices.sourceURLs      0\n",
       "asins                  0\n",
       "brand                  0\n",
       "categories             0\n",
       "dateAdded              0\n",
       "dateUpdated            0\n",
       "imageURLs              0\n",
       "keys                   0\n",
       "manufacturerNumber     0\n",
       "name                   0\n",
       "primaryCategories      0\n",
       "sourceURLs             0\n",
       "upc                    0\n",
       "weight                 0\n",
       "price                  0\n",
       "dtype: int64"
      ]
     },
     "execution_count": 364,
     "metadata": {},
     "output_type": "execute_result"
    }
   ],
   "source": [
    "df.isnull().sum()"
   ]
  },
  {
   "cell_type": "markdown",
   "id": "91f751a0-c5dd-4cf6-8413-18d55ccefea5",
   "metadata": {},
   "source": [
    "<b>Finally, we can say that if we have any `missing values below than 30 % ` we can also replace them with columns' `mean or median` by checking the statistical information both of them."
   ]
  },
  {
   "cell_type": "code",
   "execution_count": null,
   "id": "6ed8f394-7c67-493f-9670-36cb691dffc7",
   "metadata": {},
   "outputs": [],
   "source": []
  },
  {
   "cell_type": "markdown",
   "id": "35030931-0261-4382-bef6-cc40b267d97d",
   "metadata": {
    "tags": []
   },
   "source": [
    "## Feature Engineering "
   ]
  },
  {
   "cell_type": "markdown",
   "id": "9be5b035-aaa2-431f-977a-f8d441a8a672",
   "metadata": {},
   "source": [
    "Feature Engineering refers to the process by which we choose the important `features` (or columns) to look at, and make the appropriate transformations to prepare our data.\n",
    "\n",
    "We might try:\n",
    "\n",
    "- Select and Split the Data\n",
    "- Removing Unnecessary Columns\n",
    "- Data Visualization"
   ]
  },
  {
   "cell_type": "markdown",
   "id": "f67b4132-8449-417e-a551-64c32c03faef",
   "metadata": {
    "tags": []
   },
   "source": [
    "### Select and Split the Data"
   ]
  },
  {
   "cell_type": "code",
   "execution_count": 365,
   "id": "8fe9b43f-891a-48fe-bbdf-176d0a6226f4",
   "metadata": {},
   "outputs": [
    {
     "data": {
      "text/html": [
       "<div>\n",
       "<style scoped>\n",
       "    .dataframe tbody tr th:only-of-type {\n",
       "        vertical-align: middle;\n",
       "    }\n",
       "\n",
       "    .dataframe tbody tr th {\n",
       "        vertical-align: top;\n",
       "    }\n",
       "\n",
       "    .dataframe thead th {\n",
       "        text-align: right;\n",
       "    }\n",
       "</style>\n",
       "<table border=\"1\" class=\"dataframe\">\n",
       "  <thead>\n",
       "    <tr style=\"text-align: right;\">\n",
       "      <th></th>\n",
       "      <th>id</th>\n",
       "      <th>prices.availability</th>\n",
       "      <th>prices.condition</th>\n",
       "      <th>prices.currency</th>\n",
       "      <th>prices.dateSeen</th>\n",
       "      <th>prices.isSale</th>\n",
       "      <th>prices.merchant</th>\n",
       "      <th>prices.sourceURLs</th>\n",
       "      <th>asins</th>\n",
       "      <th>brand</th>\n",
       "      <th>categories</th>\n",
       "      <th>dateAdded</th>\n",
       "      <th>dateUpdated</th>\n",
       "      <th>imageURLs</th>\n",
       "      <th>keys</th>\n",
       "      <th>manufacturerNumber</th>\n",
       "      <th>name</th>\n",
       "      <th>primaryCategories</th>\n",
       "      <th>sourceURLs</th>\n",
       "      <th>upc</th>\n",
       "      <th>weight</th>\n",
       "      <th>price</th>\n",
       "    </tr>\n",
       "  </thead>\n",
       "  <tbody>\n",
       "    <tr>\n",
       "      <th>0</th>\n",
       "      <td>AVphrugr1cnluZ0-FOeH</td>\n",
       "      <td>Yes</td>\n",
       "      <td>New</td>\n",
       "      <td>USD</td>\n",
       "      <td>2017-05-10T20:00:00Z,2017-05-09T15:00:00Z</td>\n",
       "      <td>False</td>\n",
       "      <td>Bestbuy.com</td>\n",
       "      <td>http://www.bestbuy.com/site/products/7100293.p...</td>\n",
       "      <td>B00I9HD8PK</td>\n",
       "      <td>Grace Digital</td>\n",
       "      <td>Electronics,Home Audio &amp; Theater,Home Audio,Al...</td>\n",
       "      <td>2015-11-01T00:57:52Z</td>\n",
       "      <td>2018-02-13T19:46:08Z</td>\n",
       "      <td>https://i5.walmartimages.com/asr/dd5f42c4-076c...</td>\n",
       "      <td>819127010485,ecoxgearecostonebluetoothspeaker/...</td>\n",
       "      <td>GDI-EGST701</td>\n",
       "      <td>EcoXGear Ecostone Bluetooth Speaker</td>\n",
       "      <td>Electronics</td>\n",
       "      <td>http://www.walmart.com/ip/EcoXGear-Ecostone-Bl...</td>\n",
       "      <td>8.19E+11</td>\n",
       "      <td>3 pounds</td>\n",
       "      <td>92.99</td>\n",
       "    </tr>\n",
       "    <tr>\n",
       "      <th>1</th>\n",
       "      <td>AVrI6FDbv8e3D1O-lm4R</td>\n",
       "      <td>Yes</td>\n",
       "      <td>New</td>\n",
       "      <td>USD</td>\n",
       "      <td>2017-10-10T02:00:00Z,2017-08-12T03:00:00Z,2017...</td>\n",
       "      <td>False</td>\n",
       "      <td>Bestbuy.com</td>\n",
       "      <td>https://www.bestbuy.com/site/lenovo-100s-14ibr...</td>\n",
       "      <td>B06ZY63J8H</td>\n",
       "      <td>Lenovo</td>\n",
       "      <td>Electronics,Computers,Laptops,Laptops By Brand...</td>\n",
       "      <td>2017-03-13T18:22:32Z</td>\n",
       "      <td>2018-01-30T06:06:16Z</td>\n",
       "      <td>https://i5.walmartimages.com/asr/fcc50cce-a3c1...</td>\n",
       "      <td>190793918948,lenovo100s14ibr14laptopintelceler...</td>\n",
       "      <td>100s-14ibr</td>\n",
       "      <td>Lenovo - 100S-14IBR 14 Laptop - Intel Celeron ...</td>\n",
       "      <td>Electronics</td>\n",
       "      <td>https://www.walmart.com/ip/Lenovo-100S-14IBR-1...</td>\n",
       "      <td>1.91E+11</td>\n",
       "      <td>4.3 pounds</td>\n",
       "      <td>229.99</td>\n",
       "    </tr>\n",
       "  </tbody>\n",
       "</table>\n",
       "</div>"
      ],
      "text/plain": [
       "                     id prices.availability prices.condition prices.currency  \\\n",
       "0  AVphrugr1cnluZ0-FOeH                 Yes              New             USD   \n",
       "1  AVrI6FDbv8e3D1O-lm4R                 Yes              New             USD   \n",
       "\n",
       "                                     prices.dateSeen  prices.isSale  \\\n",
       "0          2017-05-10T20:00:00Z,2017-05-09T15:00:00Z          False   \n",
       "1  2017-10-10T02:00:00Z,2017-08-12T03:00:00Z,2017...          False   \n",
       "\n",
       "  prices.merchant                                  prices.sourceURLs  \\\n",
       "0     Bestbuy.com  http://www.bestbuy.com/site/products/7100293.p...   \n",
       "1     Bestbuy.com  https://www.bestbuy.com/site/lenovo-100s-14ibr...   \n",
       "\n",
       "        asins          brand  \\\n",
       "0  B00I9HD8PK  Grace Digital   \n",
       "1  B06ZY63J8H         Lenovo   \n",
       "\n",
       "                                          categories             dateAdded  \\\n",
       "0  Electronics,Home Audio & Theater,Home Audio,Al...  2015-11-01T00:57:52Z   \n",
       "1  Electronics,Computers,Laptops,Laptops By Brand...  2017-03-13T18:22:32Z   \n",
       "\n",
       "            dateUpdated                                          imageURLs  \\\n",
       "0  2018-02-13T19:46:08Z  https://i5.walmartimages.com/asr/dd5f42c4-076c...   \n",
       "1  2018-01-30T06:06:16Z  https://i5.walmartimages.com/asr/fcc50cce-a3c1...   \n",
       "\n",
       "                                                keys manufacturerNumber  \\\n",
       "0  819127010485,ecoxgearecostonebluetoothspeaker/...        GDI-EGST701   \n",
       "1  190793918948,lenovo100s14ibr14laptopintelceler...         100s-14ibr   \n",
       "\n",
       "                                                name primaryCategories  \\\n",
       "0                EcoXGear Ecostone Bluetooth Speaker       Electronics   \n",
       "1  Lenovo - 100S-14IBR 14 Laptop - Intel Celeron ...       Electronics   \n",
       "\n",
       "                                          sourceURLs       upc      weight  \\\n",
       "0  http://www.walmart.com/ip/EcoXGear-Ecostone-Bl...  8.19E+11    3 pounds   \n",
       "1  https://www.walmart.com/ip/Lenovo-100S-14IBR-1...  1.91E+11  4.3 pounds   \n",
       "\n",
       "    price  \n",
       "0   92.99  \n",
       "1  229.99  "
      ]
     },
     "execution_count": 365,
     "metadata": {},
     "output_type": "execute_result"
    }
   ],
   "source": [
    "df.head(2)"
   ]
  },
  {
   "cell_type": "code",
   "execution_count": 367,
   "id": "29bd49c4-2bb5-4a51-860e-b2c11fb1e68e",
   "metadata": {},
   "outputs": [
    {
     "name": "stdout",
     "output_type": "stream",
     "text": [
      "0       2015-11-01T00:57:52Z\n",
      "1       2017-03-13T18:22:32Z\n",
      "2       2014-10-28T18:47:20Z\n",
      "3       2015-11-06T00:24:21Z\n",
      "4       2017-07-18T23:35:50Z\n",
      "                ...         \n",
      "5431    2017-03-03T16:56:54Z\n",
      "5432    2015-11-06T13:27:00Z\n",
      "5433    2017-07-18T23:53:27Z\n",
      "5434    2014-02-20T05:00:58Z\n",
      "5435    2015-05-18T12:41:24Z\n",
      "Name: dateAdded, Length: 5436, dtype: object\n"
     ]
    }
   ],
   "source": [
    "# checking the dateAdded column\n",
    "print(df['dateAdded'])"
   ]
  },
  {
   "cell_type": "code",
   "execution_count": 369,
   "id": "bc2125a9-ea3b-4f20-b829-68301e18653e",
   "metadata": {},
   "outputs": [],
   "source": [
    "# Splitting dateAdded column and adding only years to the DaTaFrame for visualizing data\n",
    "df['year_added'] = df['dateAdded'].apply(lambda x: x.split('-')[0])"
   ]
  },
  {
   "cell_type": "code",
   "execution_count": 370,
   "id": "4ee3409e-e2af-4e70-a983-b7d203b37d6a",
   "metadata": {},
   "outputs": [
    {
     "data": {
      "text/plain": [
       "0       2015\n",
       "1       2017\n",
       "2       2014\n",
       "3       2015\n",
       "4       2017\n",
       "        ... \n",
       "5431    2017\n",
       "5432    2015\n",
       "5433    2017\n",
       "5434    2014\n",
       "5435    2015\n",
       "Name: year_added, Length: 5436, dtype: object"
      ]
     },
     "execution_count": 370,
     "metadata": {},
     "output_type": "execute_result"
    }
   ],
   "source": [
    "df['year_added']"
   ]
  },
  {
   "cell_type": "code",
   "execution_count": 371,
   "id": "1b5848f2-f42a-460f-be9d-b0b850b53c18",
   "metadata": {
    "tags": []
   },
   "outputs": [
    {
     "name": "stdout",
     "output_type": "stream",
     "text": [
      "0       2018-02-13T19:46:08Z\n",
      "1       2018-01-30T06:06:16Z\n",
      "2       2018-05-16T20:23:54Z\n",
      "3       2018-01-30T03:06:18Z\n",
      "4       2018-07-26T15:58:38Z\n",
      "                ...         \n",
      "5431    2018-05-16T20:24:25Z\n",
      "5432    2018-07-26T15:58:25Z\n",
      "5433    2018-07-26T15:58:00Z\n",
      "5434    2018-05-02T14:22:47Z\n",
      "5435    2018-07-26T15:56:45Z\n",
      "Name: dateUpdated, Length: 5436, dtype: object\n"
     ]
    }
   ],
   "source": [
    "# # checking the dateUpdated column\n",
    "print(df['dateUpdated'])"
   ]
  },
  {
   "cell_type": "code",
   "execution_count": 373,
   "id": "2591c97b-0bb8-4453-8db5-c2a93cb4de73",
   "metadata": {},
   "outputs": [],
   "source": [
    "# Splitting dateUpdated column and adding only years to the DaTaFrame for visualizing data\n",
    "df['year_updated'] = df['dateUpdated'].apply(lambda x: x.split('-')[0])"
   ]
  },
  {
   "cell_type": "code",
   "execution_count": 374,
   "id": "75cae015-4d55-4c3d-a0a6-da779cf3d21d",
   "metadata": {},
   "outputs": [
    {
     "data": {
      "text/plain": [
       "0       2018\n",
       "1       2018\n",
       "2       2018\n",
       "3       2018\n",
       "4       2018\n",
       "        ... \n",
       "5431    2018\n",
       "5432    2018\n",
       "5433    2018\n",
       "5434    2018\n",
       "5435    2018\n",
       "Name: year_updated, Length: 5436, dtype: object"
      ]
     },
     "execution_count": 374,
     "metadata": {},
     "output_type": "execute_result"
    }
   ],
   "source": [
    "df['year_updated']"
   ]
  },
  {
   "cell_type": "markdown",
   "id": "cf8df104-e09f-4973-908a-44446931b9e6",
   "metadata": {},
   "source": [
    "<b> After spliting `dateAdded` and `dateUpdated` columns into the years on a adataset we can drop these columns by using pandas `.drop()` attribute. Finally, we need to change the data types of  `year_added` and `year_updated` new columns into the numeric (integer) type for better visualizing."
   ]
  },
  {
   "cell_type": "code",
   "execution_count": 375,
   "id": "5f38a4e9-8b62-4412-9329-88b9405a3ef6",
   "metadata": {},
   "outputs": [],
   "source": [
    "# dropping columns from dataset\n",
    "df.drop(columns = [\"dateAdded\" , \"dateUpdated\"] , inplace = True)"
   ]
  },
  {
   "cell_type": "code",
   "execution_count": 378,
   "id": "2033988b-0e46-435c-8000-e4063bb2e815",
   "metadata": {},
   "outputs": [
    {
     "data": {
      "text/html": [
       "<div>\n",
       "<style scoped>\n",
       "    .dataframe tbody tr th:only-of-type {\n",
       "        vertical-align: middle;\n",
       "    }\n",
       "\n",
       "    .dataframe tbody tr th {\n",
       "        vertical-align: top;\n",
       "    }\n",
       "\n",
       "    .dataframe thead th {\n",
       "        text-align: right;\n",
       "    }\n",
       "</style>\n",
       "<table border=\"1\" class=\"dataframe\">\n",
       "  <thead>\n",
       "    <tr style=\"text-align: right;\">\n",
       "      <th></th>\n",
       "      <th>id</th>\n",
       "      <th>prices.availability</th>\n",
       "      <th>prices.condition</th>\n",
       "      <th>prices.currency</th>\n",
       "      <th>prices.dateSeen</th>\n",
       "      <th>prices.isSale</th>\n",
       "      <th>prices.merchant</th>\n",
       "      <th>prices.sourceURLs</th>\n",
       "      <th>asins</th>\n",
       "      <th>brand</th>\n",
       "      <th>categories</th>\n",
       "      <th>imageURLs</th>\n",
       "      <th>keys</th>\n",
       "      <th>manufacturerNumber</th>\n",
       "      <th>name</th>\n",
       "      <th>primaryCategories</th>\n",
       "      <th>sourceURLs</th>\n",
       "      <th>upc</th>\n",
       "      <th>weight</th>\n",
       "      <th>price</th>\n",
       "      <th>year_added</th>\n",
       "      <th>year_updated</th>\n",
       "    </tr>\n",
       "  </thead>\n",
       "  <tbody>\n",
       "    <tr>\n",
       "      <th>0</th>\n",
       "      <td>AVphrugr1cnluZ0-FOeH</td>\n",
       "      <td>Yes</td>\n",
       "      <td>New</td>\n",
       "      <td>USD</td>\n",
       "      <td>2017-05-10T20:00:00Z,2017-05-09T15:00:00Z</td>\n",
       "      <td>False</td>\n",
       "      <td>Bestbuy.com</td>\n",
       "      <td>http://www.bestbuy.com/site/products/7100293.p...</td>\n",
       "      <td>B00I9HD8PK</td>\n",
       "      <td>Grace Digital</td>\n",
       "      <td>Electronics,Home Audio &amp; Theater,Home Audio,Al...</td>\n",
       "      <td>https://i5.walmartimages.com/asr/dd5f42c4-076c...</td>\n",
       "      <td>819127010485,ecoxgearecostonebluetoothspeaker/...</td>\n",
       "      <td>GDI-EGST701</td>\n",
       "      <td>EcoXGear Ecostone Bluetooth Speaker</td>\n",
       "      <td>Electronics</td>\n",
       "      <td>http://www.walmart.com/ip/EcoXGear-Ecostone-Bl...</td>\n",
       "      <td>8.19E+11</td>\n",
       "      <td>3 pounds</td>\n",
       "      <td>92.99</td>\n",
       "      <td>2015</td>\n",
       "      <td>2018</td>\n",
       "    </tr>\n",
       "  </tbody>\n",
       "</table>\n",
       "</div>"
      ],
      "text/plain": [
       "                     id prices.availability prices.condition prices.currency  \\\n",
       "0  AVphrugr1cnluZ0-FOeH                 Yes              New             USD   \n",
       "\n",
       "                             prices.dateSeen  prices.isSale prices.merchant  \\\n",
       "0  2017-05-10T20:00:00Z,2017-05-09T15:00:00Z          False     Bestbuy.com   \n",
       "\n",
       "                                   prices.sourceURLs       asins  \\\n",
       "0  http://www.bestbuy.com/site/products/7100293.p...  B00I9HD8PK   \n",
       "\n",
       "           brand                                         categories  \\\n",
       "0  Grace Digital  Electronics,Home Audio & Theater,Home Audio,Al...   \n",
       "\n",
       "                                           imageURLs  \\\n",
       "0  https://i5.walmartimages.com/asr/dd5f42c4-076c...   \n",
       "\n",
       "                                                keys manufacturerNumber  \\\n",
       "0  819127010485,ecoxgearecostonebluetoothspeaker/...        GDI-EGST701   \n",
       "\n",
       "                                  name primaryCategories  \\\n",
       "0  EcoXGear Ecostone Bluetooth Speaker       Electronics   \n",
       "\n",
       "                                          sourceURLs       upc    weight  \\\n",
       "0  http://www.walmart.com/ip/EcoXGear-Ecostone-Bl...  8.19E+11  3 pounds   \n",
       "\n",
       "   price year_added year_updated  \n",
       "0  92.99       2015         2018  "
      ]
     },
     "execution_count": 378,
     "metadata": {},
     "output_type": "execute_result"
    }
   ],
   "source": [
    "# checking the DataFrame for new columns at the end\n",
    "df.head(1)"
   ]
  },
  {
   "cell_type": "code",
   "execution_count": 379,
   "id": "58c3fe9e-0b7f-4e80-8e95-81d2d109a8c6",
   "metadata": {},
   "outputs": [],
   "source": [
    "# changing the `year_added` and `year_updated` columns into the numeric (integer) type\n",
    "for x in ['year_added', 'year_updated']: \n",
    "    df[x] = pd.to_numeric(df[x])"
   ]
  },
  {
   "cell_type": "markdown",
   "id": "63d8c4cc-2221-4c11-a24d-1898d79680f2",
   "metadata": {},
   "source": [
    "On the other hand, in here some categories can be `grouped` by `categories` or `brands` by using pandas `groupby()` method below."
   ]
  },
  {
   "cell_type": "code",
   "execution_count": 380,
   "id": "189ee16d-e4ee-4144-ae28-efd836d70d41",
   "metadata": {},
   "outputs": [
    {
     "data": {
      "text/html": [
       "<div>\n",
       "<style scoped>\n",
       "    .dataframe tbody tr th:only-of-type {\n",
       "        vertical-align: middle;\n",
       "    }\n",
       "\n",
       "    .dataframe tbody tr th {\n",
       "        vertical-align: top;\n",
       "    }\n",
       "\n",
       "    .dataframe thead th {\n",
       "        text-align: right;\n",
       "    }\n",
       "</style>\n",
       "<table border=\"1\" class=\"dataframe\">\n",
       "  <thead>\n",
       "    <tr style=\"text-align: right;\">\n",
       "      <th></th>\n",
       "      <th>primaryCategories</th>\n",
       "      <th>id</th>\n",
       "      <th>prices.availability</th>\n",
       "      <th>prices.condition</th>\n",
       "      <th>prices.currency</th>\n",
       "      <th>prices.dateSeen</th>\n",
       "      <th>prices.isSale</th>\n",
       "      <th>prices.merchant</th>\n",
       "      <th>prices.sourceURLs</th>\n",
       "      <th>asins</th>\n",
       "      <th>brand</th>\n",
       "      <th>categories</th>\n",
       "      <th>imageURLs</th>\n",
       "      <th>keys</th>\n",
       "      <th>manufacturerNumber</th>\n",
       "      <th>name</th>\n",
       "      <th>sourceURLs</th>\n",
       "      <th>upc</th>\n",
       "      <th>weight</th>\n",
       "      <th>price</th>\n",
       "      <th>year_added</th>\n",
       "      <th>year_updated</th>\n",
       "    </tr>\n",
       "  </thead>\n",
       "  <tbody>\n",
       "    <tr>\n",
       "      <th>0</th>\n",
       "      <td>Apple CarPlay</td>\n",
       "      <td>22</td>\n",
       "      <td>22</td>\n",
       "      <td>22</td>\n",
       "      <td>22</td>\n",
       "      <td>22</td>\n",
       "      <td>22</td>\n",
       "      <td>22</td>\n",
       "      <td>22</td>\n",
       "      <td>22</td>\n",
       "      <td>22</td>\n",
       "      <td>22</td>\n",
       "      <td>22</td>\n",
       "      <td>22</td>\n",
       "      <td>22</td>\n",
       "      <td>22</td>\n",
       "      <td>22</td>\n",
       "      <td>22</td>\n",
       "      <td>22</td>\n",
       "      <td>22</td>\n",
       "      <td>22</td>\n",
       "      <td>22</td>\n",
       "    </tr>\n",
       "    <tr>\n",
       "      <th>1</th>\n",
       "      <td>Intel Celeron</td>\n",
       "      <td>9</td>\n",
       "      <td>9</td>\n",
       "      <td>9</td>\n",
       "      <td>9</td>\n",
       "      <td>9</td>\n",
       "      <td>9</td>\n",
       "      <td>9</td>\n",
       "      <td>9</td>\n",
       "      <td>9</td>\n",
       "      <td>9</td>\n",
       "      <td>9</td>\n",
       "      <td>9</td>\n",
       "      <td>9</td>\n",
       "      <td>9</td>\n",
       "      <td>9</td>\n",
       "      <td>9</td>\n",
       "      <td>9</td>\n",
       "      <td>9</td>\n",
       "      <td>9</td>\n",
       "      <td>9</td>\n",
       "      <td>9</td>\n",
       "    </tr>\n",
       "    <tr>\n",
       "      <th>2</th>\n",
       "      <td>Siri Eyes Free</td>\n",
       "      <td>5</td>\n",
       "      <td>5</td>\n",
       "      <td>5</td>\n",
       "      <td>5</td>\n",
       "      <td>5</td>\n",
       "      <td>5</td>\n",
       "      <td>5</td>\n",
       "      <td>5</td>\n",
       "      <td>5</td>\n",
       "      <td>5</td>\n",
       "      <td>5</td>\n",
       "      <td>5</td>\n",
       "      <td>5</td>\n",
       "      <td>5</td>\n",
       "      <td>5</td>\n",
       "      <td>5</td>\n",
       "      <td>5</td>\n",
       "      <td>5</td>\n",
       "      <td>5</td>\n",
       "      <td>5</td>\n",
       "      <td>5</td>\n",
       "    </tr>\n",
       "    <tr>\n",
       "      <th>3</th>\n",
       "      <td>Electronics</td>\n",
       "      <td>5392</td>\n",
       "      <td>5392</td>\n",
       "      <td>5392</td>\n",
       "      <td>5392</td>\n",
       "      <td>5392</td>\n",
       "      <td>5392</td>\n",
       "      <td>5392</td>\n",
       "      <td>5392</td>\n",
       "      <td>5392</td>\n",
       "      <td>5392</td>\n",
       "      <td>5392</td>\n",
       "      <td>5392</td>\n",
       "      <td>5392</td>\n",
       "      <td>5392</td>\n",
       "      <td>5392</td>\n",
       "      <td>5392</td>\n",
       "      <td>5392</td>\n",
       "      <td>5392</td>\n",
       "      <td>5392</td>\n",
       "      <td>5392</td>\n",
       "      <td>5392</td>\n",
       "    </tr>\n",
       "    <tr>\n",
       "      <th>4</th>\n",
       "      <td>Electronics,Furniture</td>\n",
       "      <td>8</td>\n",
       "      <td>8</td>\n",
       "      <td>8</td>\n",
       "      <td>8</td>\n",
       "      <td>8</td>\n",
       "      <td>8</td>\n",
       "      <td>8</td>\n",
       "      <td>8</td>\n",
       "      <td>8</td>\n",
       "      <td>8</td>\n",
       "      <td>8</td>\n",
       "      <td>8</td>\n",
       "      <td>8</td>\n",
       "      <td>8</td>\n",
       "      <td>8</td>\n",
       "      <td>8</td>\n",
       "      <td>8</td>\n",
       "      <td>8</td>\n",
       "      <td>8</td>\n",
       "      <td>8</td>\n",
       "      <td>8</td>\n",
       "    </tr>\n",
       "  </tbody>\n",
       "</table>\n",
       "</div>"
      ],
      "text/plain": [
       "       primaryCategories    id  prices.availability  prices.condition  \\\n",
       "0          Apple CarPlay    22                   22                22   \n",
       "1          Intel Celeron     9                    9                 9   \n",
       "2         Siri Eyes Free     5                    5                 5   \n",
       "3            Electronics  5392                 5392              5392   \n",
       "4  Electronics,Furniture     8                    8                 8   \n",
       "\n",
       "   prices.currency  prices.dateSeen  prices.isSale  prices.merchant  \\\n",
       "0               22               22             22               22   \n",
       "1                9                9              9                9   \n",
       "2                5                5              5                5   \n",
       "3             5392             5392           5392             5392   \n",
       "4                8                8              8                8   \n",
       "\n",
       "   prices.sourceURLs  asins  brand  categories  imageURLs  keys  \\\n",
       "0                 22     22     22          22         22    22   \n",
       "1                  9      9      9           9          9     9   \n",
       "2                  5      5      5           5          5     5   \n",
       "3               5392   5392   5392        5392       5392  5392   \n",
       "4                  8      8      8           8          8     8   \n",
       "\n",
       "   manufacturerNumber  name  sourceURLs   upc  weight  price  year_added  \\\n",
       "0                  22    22          22    22      22     22          22   \n",
       "1                   9     9           9     9       9      9           9   \n",
       "2                   5     5           5     5       5      5           5   \n",
       "3                5392  5392        5392  5392    5392   5392        5392   \n",
       "4                   8     8           8     8       8      8           8   \n",
       "\n",
       "   year_updated  \n",
       "0            22  \n",
       "1             9  \n",
       "2             5  \n",
       "3          5392  \n",
       "4             8  "
      ]
     },
     "execution_count": 380,
     "metadata": {},
     "output_type": "execute_result"
    }
   ],
   "source": [
    "# grouping primaryCategories by counting their all features\n",
    "df.groupby(['primaryCategories']).count().reset_index()"
   ]
  },
  {
   "cell_type": "code",
   "execution_count": 381,
   "id": "fcc18eed-1986-46e1-aec6-d530b2c39787",
   "metadata": {},
   "outputs": [
    {
     "data": {
      "text/html": [
       "<div>\n",
       "<style scoped>\n",
       "    .dataframe tbody tr th:only-of-type {\n",
       "        vertical-align: middle;\n",
       "    }\n",
       "\n",
       "    .dataframe tbody tr th {\n",
       "        vertical-align: top;\n",
       "    }\n",
       "\n",
       "    .dataframe thead th {\n",
       "        text-align: right;\n",
       "    }\n",
       "</style>\n",
       "<table border=\"1\" class=\"dataframe\">\n",
       "  <thead>\n",
       "    <tr style=\"text-align: right;\">\n",
       "      <th></th>\n",
       "      <th>primaryCategories</th>\n",
       "      <th>brand</th>\n",
       "      <th>id</th>\n",
       "    </tr>\n",
       "  </thead>\n",
       "  <tbody>\n",
       "    <tr>\n",
       "      <th>0</th>\n",
       "      <td>Apple CarPlay</td>\n",
       "      <td>Kenwood</td>\n",
       "      <td>22</td>\n",
       "    </tr>\n",
       "    <tr>\n",
       "      <th>1</th>\n",
       "      <td>Intel Celeron</td>\n",
       "      <td>Acer</td>\n",
       "      <td>9</td>\n",
       "    </tr>\n",
       "    <tr>\n",
       "      <th>2</th>\n",
       "      <td>Siri Eyes Free</td>\n",
       "      <td>Pioneer</td>\n",
       "      <td>5</td>\n",
       "    </tr>\n",
       "    <tr>\n",
       "      <th>3</th>\n",
       "      <td>Electronics</td>\n",
       "      <td>360fly</td>\n",
       "      <td>18</td>\n",
       "    </tr>\n",
       "    <tr>\n",
       "      <th>4</th>\n",
       "      <td>Electronics</td>\n",
       "      <td>AOC</td>\n",
       "      <td>20</td>\n",
       "    </tr>\n",
       "    <tr>\n",
       "      <th>5</th>\n",
       "      <td>Electronics</td>\n",
       "      <td>ASUS</td>\n",
       "      <td>58</td>\n",
       "    </tr>\n",
       "    <tr>\n",
       "      <th>6</th>\n",
       "      <td>Electronics</td>\n",
       "      <td>Acer</td>\n",
       "      <td>12</td>\n",
       "    </tr>\n",
       "    <tr>\n",
       "      <th>7</th>\n",
       "      <td>Electronics</td>\n",
       "      <td>Actiontec</td>\n",
       "      <td>24</td>\n",
       "    </tr>\n",
       "    <tr>\n",
       "      <th>8</th>\n",
       "      <td>Electronics</td>\n",
       "      <td>AfterShokz</td>\n",
       "      <td>3</td>\n",
       "    </tr>\n",
       "    <tr>\n",
       "      <th>9</th>\n",
       "      <td>Electronics</td>\n",
       "      <td>Aftershokz</td>\n",
       "      <td>2</td>\n",
       "    </tr>\n",
       "  </tbody>\n",
       "</table>\n",
       "</div>"
      ],
      "text/plain": [
       "  primaryCategories       brand  id\n",
       "0     Apple CarPlay     Kenwood  22\n",
       "1     Intel Celeron        Acer   9\n",
       "2    Siri Eyes Free     Pioneer   5\n",
       "3       Electronics      360fly  18\n",
       "4       Electronics         AOC  20\n",
       "5       Electronics        ASUS  58\n",
       "6       Electronics        Acer  12\n",
       "7       Electronics   Actiontec  24\n",
       "8       Electronics  AfterShokz   3\n",
       "9       Electronics  Aftershokz   2"
      ]
     },
     "execution_count": 381,
     "metadata": {},
     "output_type": "execute_result"
    }
   ],
   "source": [
    "# grouping primaryCategories and brands by their id`s\n",
    "df.groupby(['primaryCategories', 'brand']).id.count().reset_index().head(10)"
   ]
  },
  {
   "cell_type": "code",
   "execution_count": 382,
   "id": "a4eed949-363b-47de-9477-b620c28950f1",
   "metadata": {},
   "outputs": [
    {
     "data": {
      "text/html": [
       "<div>\n",
       "<style scoped>\n",
       "    .dataframe tbody tr th:only-of-type {\n",
       "        vertical-align: middle;\n",
       "    }\n",
       "\n",
       "    .dataframe tbody tr th {\n",
       "        vertical-align: top;\n",
       "    }\n",
       "\n",
       "    .dataframe thead th {\n",
       "        text-align: right;\n",
       "    }\n",
       "</style>\n",
       "<table border=\"1\" class=\"dataframe\">\n",
       "  <thead>\n",
       "    <tr style=\"text-align: right;\">\n",
       "      <th></th>\n",
       "      <th>brand</th>\n",
       "      <th>categories</th>\n",
       "      <th>id</th>\n",
       "      <th>prices.availability</th>\n",
       "      <th>prices.condition</th>\n",
       "      <th>prices.currency</th>\n",
       "      <th>prices.dateSeen</th>\n",
       "      <th>prices.isSale</th>\n",
       "      <th>prices.merchant</th>\n",
       "      <th>prices.sourceURLs</th>\n",
       "      <th>asins</th>\n",
       "      <th>imageURLs</th>\n",
       "      <th>keys</th>\n",
       "      <th>manufacturerNumber</th>\n",
       "      <th>name</th>\n",
       "      <th>primaryCategories</th>\n",
       "      <th>sourceURLs</th>\n",
       "      <th>upc</th>\n",
       "      <th>weight</th>\n",
       "      <th>price</th>\n",
       "      <th>year_added</th>\n",
       "      <th>year_updated</th>\n",
       "    </tr>\n",
       "  </thead>\n",
       "  <tbody>\n",
       "    <tr>\n",
       "      <th>0</th>\n",
       "      <td>360fly</td>\n",
       "      <td>Cameras &amp; Photo,360 Cameras,VR 360 Video,Camco...</td>\n",
       "      <td>18</td>\n",
       "      <td>18</td>\n",
       "      <td>18</td>\n",
       "      <td>18</td>\n",
       "      <td>18</td>\n",
       "      <td>18</td>\n",
       "      <td>18</td>\n",
       "      <td>18</td>\n",
       "      <td>18</td>\n",
       "      <td>18</td>\n",
       "      <td>18</td>\n",
       "      <td>18</td>\n",
       "      <td>18</td>\n",
       "      <td>18</td>\n",
       "      <td>18</td>\n",
       "      <td>18</td>\n",
       "      <td>18</td>\n",
       "      <td>18</td>\n",
       "      <td>18</td>\n",
       "      <td>18</td>\n",
       "    </tr>\n",
       "    <tr>\n",
       "      <th>1</th>\n",
       "      <td>AOC</td>\n",
       "      <td>Computers,Computers &amp; Accessories,LCD Monitors...</td>\n",
       "      <td>9</td>\n",
       "      <td>9</td>\n",
       "      <td>9</td>\n",
       "      <td>9</td>\n",
       "      <td>9</td>\n",
       "      <td>9</td>\n",
       "      <td>9</td>\n",
       "      <td>9</td>\n",
       "      <td>9</td>\n",
       "      <td>9</td>\n",
       "      <td>9</td>\n",
       "      <td>9</td>\n",
       "      <td>9</td>\n",
       "      <td>9</td>\n",
       "      <td>9</td>\n",
       "      <td>9</td>\n",
       "      <td>9</td>\n",
       "      <td>9</td>\n",
       "      <td>9</td>\n",
       "      <td>9</td>\n",
       "    </tr>\n",
       "    <tr>\n",
       "      <th>2</th>\n",
       "      <td>AOC</td>\n",
       "      <td>Computers,Computers &amp; Accessories,Laptop Acces...</td>\n",
       "      <td>11</td>\n",
       "      <td>11</td>\n",
       "      <td>11</td>\n",
       "      <td>11</td>\n",
       "      <td>11</td>\n",
       "      <td>11</td>\n",
       "      <td>11</td>\n",
       "      <td>11</td>\n",
       "      <td>11</td>\n",
       "      <td>11</td>\n",
       "      <td>11</td>\n",
       "      <td>11</td>\n",
       "      <td>11</td>\n",
       "      <td>11</td>\n",
       "      <td>11</td>\n",
       "      <td>11</td>\n",
       "      <td>11</td>\n",
       "      <td>11</td>\n",
       "      <td>11</td>\n",
       "      <td>11</td>\n",
       "    </tr>\n",
       "    <tr>\n",
       "      <th>3</th>\n",
       "      <td>ASUS</td>\n",
       "      <td>Computers,Asus Laptops,Computers &amp; Accessories...</td>\n",
       "      <td>10</td>\n",
       "      <td>10</td>\n",
       "      <td>10</td>\n",
       "      <td>10</td>\n",
       "      <td>10</td>\n",
       "      <td>10</td>\n",
       "      <td>10</td>\n",
       "      <td>10</td>\n",
       "      <td>10</td>\n",
       "      <td>10</td>\n",
       "      <td>10</td>\n",
       "      <td>10</td>\n",
       "      <td>10</td>\n",
       "      <td>10</td>\n",
       "      <td>10</td>\n",
       "      <td>10</td>\n",
       "      <td>10</td>\n",
       "      <td>10</td>\n",
       "      <td>10</td>\n",
       "      <td>10</td>\n",
       "    </tr>\n",
       "    <tr>\n",
       "      <th>4</th>\n",
       "      <td>ASUS</td>\n",
       "      <td>Computers,Computer Monitors ardbvbarzuftq,Comp...</td>\n",
       "      <td>9</td>\n",
       "      <td>9</td>\n",
       "      <td>9</td>\n",
       "      <td>9</td>\n",
       "      <td>9</td>\n",
       "      <td>9</td>\n",
       "      <td>9</td>\n",
       "      <td>9</td>\n",
       "      <td>9</td>\n",
       "      <td>9</td>\n",
       "      <td>9</td>\n",
       "      <td>9</td>\n",
       "      <td>9</td>\n",
       "      <td>9</td>\n",
       "      <td>9</td>\n",
       "      <td>9</td>\n",
       "      <td>9</td>\n",
       "      <td>9</td>\n",
       "      <td>9</td>\n",
       "      <td>9</td>\n",
       "    </tr>\n",
       "  </tbody>\n",
       "</table>\n",
       "</div>"
      ],
      "text/plain": [
       "    brand                                         categories  id  \\\n",
       "0  360fly  Cameras & Photo,360 Cameras,VR 360 Video,Camco...  18   \n",
       "1     AOC  Computers,Computers & Accessories,LCD Monitors...   9   \n",
       "2     AOC  Computers,Computers & Accessories,Laptop Acces...  11   \n",
       "3    ASUS  Computers,Asus Laptops,Computers & Accessories...  10   \n",
       "4    ASUS  Computers,Computer Monitors ardbvbarzuftq,Comp...   9   \n",
       "\n",
       "   prices.availability  prices.condition  prices.currency  prices.dateSeen  \\\n",
       "0                   18                18               18               18   \n",
       "1                    9                 9                9                9   \n",
       "2                   11                11               11               11   \n",
       "3                   10                10               10               10   \n",
       "4                    9                 9                9                9   \n",
       "\n",
       "   prices.isSale  prices.merchant  prices.sourceURLs  asins  imageURLs  keys  \\\n",
       "0             18               18                 18     18         18    18   \n",
       "1              9                9                  9      9          9     9   \n",
       "2             11               11                 11     11         11    11   \n",
       "3             10               10                 10     10         10    10   \n",
       "4              9                9                  9      9          9     9   \n",
       "\n",
       "   manufacturerNumber  name  primaryCategories  sourceURLs  upc  weight  \\\n",
       "0                  18    18                 18          18   18      18   \n",
       "1                   9     9                  9           9    9       9   \n",
       "2                  11    11                 11          11   11      11   \n",
       "3                  10    10                 10          10   10      10   \n",
       "4                   9     9                  9           9    9       9   \n",
       "\n",
       "   price  year_added  year_updated  \n",
       "0     18          18            18  \n",
       "1      9           9             9  \n",
       "2     11          11            11  \n",
       "3     10          10            10  \n",
       "4      9           9             9  "
      ]
     },
     "execution_count": 382,
     "metadata": {},
     "output_type": "execute_result"
    }
   ],
   "source": [
    "# grouping brands and their categories by counting all features\n",
    "df.groupby(['brand', 'categories']).count().reset_index().head(5)"
   ]
  },
  {
   "cell_type": "code",
   "execution_count": 383,
   "id": "fa6a1c88-55ff-4f8e-9dc3-5f342b60a42e",
   "metadata": {},
   "outputs": [
    {
     "data": {
      "text/html": [
       "<div>\n",
       "<style scoped>\n",
       "    .dataframe tbody tr th:only-of-type {\n",
       "        vertical-align: middle;\n",
       "    }\n",
       "\n",
       "    .dataframe tbody tr th {\n",
       "        vertical-align: top;\n",
       "    }\n",
       "\n",
       "    .dataframe thead th {\n",
       "        text-align: right;\n",
       "    }\n",
       "</style>\n",
       "<table border=\"1\" class=\"dataframe\">\n",
       "  <thead>\n",
       "    <tr style=\"text-align: right;\">\n",
       "      <th></th>\n",
       "      <th>prices.merchant</th>\n",
       "      <th>id</th>\n",
       "      <th>prices.availability</th>\n",
       "      <th>prices.condition</th>\n",
       "      <th>prices.currency</th>\n",
       "      <th>prices.dateSeen</th>\n",
       "      <th>prices.isSale</th>\n",
       "      <th>prices.sourceURLs</th>\n",
       "      <th>asins</th>\n",
       "      <th>brand</th>\n",
       "      <th>categories</th>\n",
       "      <th>imageURLs</th>\n",
       "      <th>keys</th>\n",
       "      <th>manufacturerNumber</th>\n",
       "      <th>name</th>\n",
       "      <th>primaryCategories</th>\n",
       "      <th>sourceURLs</th>\n",
       "      <th>upc</th>\n",
       "      <th>weight</th>\n",
       "      <th>price</th>\n",
       "      <th>year_added</th>\n",
       "      <th>year_updated</th>\n",
       "    </tr>\n",
       "  </thead>\n",
       "  <tbody>\n",
       "    <tr>\n",
       "      <th>0</th>\n",
       "      <td>1 Stop Electronics Center, Inc.</td>\n",
       "      <td>1</td>\n",
       "      <td>1</td>\n",
       "      <td>1</td>\n",
       "      <td>1</td>\n",
       "      <td>1</td>\n",
       "      <td>1</td>\n",
       "      <td>1</td>\n",
       "      <td>1</td>\n",
       "      <td>1</td>\n",
       "      <td>1</td>\n",
       "      <td>1</td>\n",
       "      <td>1</td>\n",
       "      <td>1</td>\n",
       "      <td>1</td>\n",
       "      <td>1</td>\n",
       "      <td>1</td>\n",
       "      <td>1</td>\n",
       "      <td>1</td>\n",
       "      <td>1</td>\n",
       "      <td>1</td>\n",
       "      <td>1</td>\n",
       "    </tr>\n",
       "    <tr>\n",
       "      <th>1</th>\n",
       "      <td>17th St Photo Supply Inc</td>\n",
       "      <td>4</td>\n",
       "      <td>4</td>\n",
       "      <td>4</td>\n",
       "      <td>4</td>\n",
       "      <td>4</td>\n",
       "      <td>4</td>\n",
       "      <td>4</td>\n",
       "      <td>4</td>\n",
       "      <td>4</td>\n",
       "      <td>4</td>\n",
       "      <td>4</td>\n",
       "      <td>4</td>\n",
       "      <td>4</td>\n",
       "      <td>4</td>\n",
       "      <td>4</td>\n",
       "      <td>4</td>\n",
       "      <td>4</td>\n",
       "      <td>4</td>\n",
       "      <td>4</td>\n",
       "      <td>4</td>\n",
       "      <td>4</td>\n",
       "    </tr>\n",
       "    <tr>\n",
       "      <th>2</th>\n",
       "      <td>19th Hole Deals</td>\n",
       "      <td>1</td>\n",
       "      <td>1</td>\n",
       "      <td>1</td>\n",
       "      <td>1</td>\n",
       "      <td>1</td>\n",
       "      <td>1</td>\n",
       "      <td>1</td>\n",
       "      <td>1</td>\n",
       "      <td>1</td>\n",
       "      <td>1</td>\n",
       "      <td>1</td>\n",
       "      <td>1</td>\n",
       "      <td>1</td>\n",
       "      <td>1</td>\n",
       "      <td>1</td>\n",
       "      <td>1</td>\n",
       "      <td>1</td>\n",
       "      <td>1</td>\n",
       "      <td>1</td>\n",
       "      <td>1</td>\n",
       "      <td>1</td>\n",
       "    </tr>\n",
       "    <tr>\n",
       "      <th>3</th>\n",
       "      <td>1topwire</td>\n",
       "      <td>1</td>\n",
       "      <td>1</td>\n",
       "      <td>1</td>\n",
       "      <td>1</td>\n",
       "      <td>1</td>\n",
       "      <td>1</td>\n",
       "      <td>1</td>\n",
       "      <td>1</td>\n",
       "      <td>1</td>\n",
       "      <td>1</td>\n",
       "      <td>1</td>\n",
       "      <td>1</td>\n",
       "      <td>1</td>\n",
       "      <td>1</td>\n",
       "      <td>1</td>\n",
       "      <td>1</td>\n",
       "      <td>1</td>\n",
       "      <td>1</td>\n",
       "      <td>1</td>\n",
       "      <td>1</td>\n",
       "      <td>1</td>\n",
       "    </tr>\n",
       "    <tr>\n",
       "      <th>4</th>\n",
       "      <td>1win</td>\n",
       "      <td>1</td>\n",
       "      <td>1</td>\n",
       "      <td>1</td>\n",
       "      <td>1</td>\n",
       "      <td>1</td>\n",
       "      <td>1</td>\n",
       "      <td>1</td>\n",
       "      <td>1</td>\n",
       "      <td>1</td>\n",
       "      <td>1</td>\n",
       "      <td>1</td>\n",
       "      <td>1</td>\n",
       "      <td>1</td>\n",
       "      <td>1</td>\n",
       "      <td>1</td>\n",
       "      <td>1</td>\n",
       "      <td>1</td>\n",
       "      <td>1</td>\n",
       "      <td>1</td>\n",
       "      <td>1</td>\n",
       "      <td>1</td>\n",
       "    </tr>\n",
       "    <tr>\n",
       "      <th>5</th>\n",
       "      <td>2011dailydeals</td>\n",
       "      <td>1</td>\n",
       "      <td>1</td>\n",
       "      <td>1</td>\n",
       "      <td>1</td>\n",
       "      <td>1</td>\n",
       "      <td>1</td>\n",
       "      <td>1</td>\n",
       "      <td>1</td>\n",
       "      <td>1</td>\n",
       "      <td>1</td>\n",
       "      <td>1</td>\n",
       "      <td>1</td>\n",
       "      <td>1</td>\n",
       "      <td>1</td>\n",
       "      <td>1</td>\n",
       "      <td>1</td>\n",
       "      <td>1</td>\n",
       "      <td>1</td>\n",
       "      <td>1</td>\n",
       "      <td>1</td>\n",
       "      <td>1</td>\n",
       "    </tr>\n",
       "    <tr>\n",
       "      <th>6</th>\n",
       "      <td>305mia65</td>\n",
       "      <td>1</td>\n",
       "      <td>1</td>\n",
       "      <td>1</td>\n",
       "      <td>1</td>\n",
       "      <td>1</td>\n",
       "      <td>1</td>\n",
       "      <td>1</td>\n",
       "      <td>1</td>\n",
       "      <td>1</td>\n",
       "      <td>1</td>\n",
       "      <td>1</td>\n",
       "      <td>1</td>\n",
       "      <td>1</td>\n",
       "      <td>1</td>\n",
       "      <td>1</td>\n",
       "      <td>1</td>\n",
       "      <td>1</td>\n",
       "      <td>1</td>\n",
       "      <td>1</td>\n",
       "      <td>1</td>\n",
       "      <td>1</td>\n",
       "    </tr>\n",
       "    <tr>\n",
       "      <th>7</th>\n",
       "      <td>428ypz</td>\n",
       "      <td>1</td>\n",
       "      <td>1</td>\n",
       "      <td>1</td>\n",
       "      <td>1</td>\n",
       "      <td>1</td>\n",
       "      <td>1</td>\n",
       "      <td>1</td>\n",
       "      <td>1</td>\n",
       "      <td>1</td>\n",
       "      <td>1</td>\n",
       "      <td>1</td>\n",
       "      <td>1</td>\n",
       "      <td>1</td>\n",
       "      <td>1</td>\n",
       "      <td>1</td>\n",
       "      <td>1</td>\n",
       "      <td>1</td>\n",
       "      <td>1</td>\n",
       "      <td>1</td>\n",
       "      <td>1</td>\n",
       "      <td>1</td>\n",
       "    </tr>\n",
       "    <tr>\n",
       "      <th>8</th>\n",
       "      <td>47st. Photo</td>\n",
       "      <td>1</td>\n",
       "      <td>1</td>\n",
       "      <td>1</td>\n",
       "      <td>1</td>\n",
       "      <td>1</td>\n",
       "      <td>1</td>\n",
       "      <td>1</td>\n",
       "      <td>1</td>\n",
       "      <td>1</td>\n",
       "      <td>1</td>\n",
       "      <td>1</td>\n",
       "      <td>1</td>\n",
       "      <td>1</td>\n",
       "      <td>1</td>\n",
       "      <td>1</td>\n",
       "      <td>1</td>\n",
       "      <td>1</td>\n",
       "      <td>1</td>\n",
       "      <td>1</td>\n",
       "      <td>1</td>\n",
       "      <td>1</td>\n",
       "    </tr>\n",
       "    <tr>\n",
       "      <th>9</th>\n",
       "      <td>4surpluscity</td>\n",
       "      <td>1</td>\n",
       "      <td>1</td>\n",
       "      <td>1</td>\n",
       "      <td>1</td>\n",
       "      <td>1</td>\n",
       "      <td>1</td>\n",
       "      <td>1</td>\n",
       "      <td>1</td>\n",
       "      <td>1</td>\n",
       "      <td>1</td>\n",
       "      <td>1</td>\n",
       "      <td>1</td>\n",
       "      <td>1</td>\n",
       "      <td>1</td>\n",
       "      <td>1</td>\n",
       "      <td>1</td>\n",
       "      <td>1</td>\n",
       "      <td>1</td>\n",
       "      <td>1</td>\n",
       "      <td>1</td>\n",
       "      <td>1</td>\n",
       "    </tr>\n",
       "  </tbody>\n",
       "</table>\n",
       "</div>"
      ],
      "text/plain": [
       "                   prices.merchant  id  prices.availability  prices.condition  \\\n",
       "0  1 Stop Electronics Center, Inc.   1                    1                 1   \n",
       "1         17th St Photo Supply Inc   4                    4                 4   \n",
       "2                  19th Hole Deals   1                    1                 1   \n",
       "3                         1topwire   1                    1                 1   \n",
       "4                             1win   1                    1                 1   \n",
       "5                   2011dailydeals   1                    1                 1   \n",
       "6                         305mia65   1                    1                 1   \n",
       "7                           428ypz   1                    1                 1   \n",
       "8                      47st. Photo   1                    1                 1   \n",
       "9                     4surpluscity   1                    1                 1   \n",
       "\n",
       "   prices.currency  prices.dateSeen  prices.isSale  prices.sourceURLs  asins  \\\n",
       "0                1                1              1                  1      1   \n",
       "1                4                4              4                  4      4   \n",
       "2                1                1              1                  1      1   \n",
       "3                1                1              1                  1      1   \n",
       "4                1                1              1                  1      1   \n",
       "5                1                1              1                  1      1   \n",
       "6                1                1              1                  1      1   \n",
       "7                1                1              1                  1      1   \n",
       "8                1                1              1                  1      1   \n",
       "9                1                1              1                  1      1   \n",
       "\n",
       "   brand  categories  imageURLs  keys  manufacturerNumber  name  \\\n",
       "0      1           1          1     1                   1     1   \n",
       "1      4           4          4     4                   4     4   \n",
       "2      1           1          1     1                   1     1   \n",
       "3      1           1          1     1                   1     1   \n",
       "4      1           1          1     1                   1     1   \n",
       "5      1           1          1     1                   1     1   \n",
       "6      1           1          1     1                   1     1   \n",
       "7      1           1          1     1                   1     1   \n",
       "8      1           1          1     1                   1     1   \n",
       "9      1           1          1     1                   1     1   \n",
       "\n",
       "   primaryCategories  sourceURLs  upc  weight  price  year_added  year_updated  \n",
       "0                  1           1    1       1      1           1             1  \n",
       "1                  4           4    4       4      4           4             4  \n",
       "2                  1           1    1       1      1           1             1  \n",
       "3                  1           1    1       1      1           1             1  \n",
       "4                  1           1    1       1      1           1             1  \n",
       "5                  1           1    1       1      1           1             1  \n",
       "6                  1           1    1       1      1           1             1  \n",
       "7                  1           1    1       1      1           1             1  \n",
       "8                  1           1    1       1      1           1             1  \n",
       "9                  1           1    1       1      1           1             1  "
      ]
     },
     "execution_count": 383,
     "metadata": {},
     "output_type": "execute_result"
    }
   ],
   "source": [
    "# grouping prices.merchant by counting their all features\n",
    "df.groupby(['prices.merchant']).count().reset_index().head(10)"
   ]
  },
  {
   "cell_type": "code",
   "execution_count": null,
   "id": "0d6ee5a5-b316-4649-a7b8-3949a201c0f3",
   "metadata": {},
   "outputs": [],
   "source": []
  },
  {
   "cell_type": "markdown",
   "id": "413751f9-5d49-4b26-baac-a2c6af7a5a87",
   "metadata": {
    "tags": []
   },
   "source": [
    "### Data Visualization"
   ]
  },
  {
   "cell_type": "markdown",
   "id": "5d923212-dfb9-462e-9abf-b00178fa0270",
   "metadata": {},
   "source": [
    "The goals in a data visualization process are to prepare data, followed by analysis with plots, and seek to explain the findings from the dataset. Here, more needs to be explored about the features that are represented in the `DataFrame`"
   ]
  },
  {
   "cell_type": "markdown",
   "id": "22ff068b-5cf5-4651-9c9b-daac6d16703d",
   "metadata": {
    "tags": []
   },
   "source": [
    "#### Histograms"
   ]
  },
  {
   "cell_type": "markdown",
   "id": "98cbbce3-7947-4abe-a3ab-ebda6f297d78",
   "metadata": {},
   "source": [
    "Histograms are the best plots to check the distribution of the values in a dataset. Exploring data through plots can sometimes be much more effective. Sometimes when data are on a `log scale`, it can be hard to visualize the distribution of the values. Features with `positive` values that are highly `right-skewed` are prime candidates for `log transformation`. Let’s look at the distribution of `price` column as being shown below."
   ]
  },
  {
   "cell_type": "code",
   "execution_count": 384,
   "id": "2573a4b8-1b25-4b16-9fd4-5f3b5e6a4a71",
   "metadata": {},
   "outputs": [
    {
     "data": {
      "text/plain": [
       "1.0"
      ]
     },
     "execution_count": 384,
     "metadata": {},
     "output_type": "execute_result"
    }
   ],
   "source": [
    "# checking the min price\n",
    "df.price.min()"
   ]
  },
  {
   "cell_type": "code",
   "execution_count": 385,
   "id": "2edbef96-5229-4514-81b3-9322ed998159",
   "metadata": {},
   "outputs": [
    {
     "data": {
      "text/plain": [
       "6999.99"
      ]
     },
     "execution_count": 385,
     "metadata": {},
     "output_type": "execute_result"
    }
   ],
   "source": [
    "# checking the max price\n",
    "df.price.max()"
   ]
  },
  {
   "cell_type": "code",
   "execution_count": 386,
   "id": "08b8b9f2-3ba6-4b4f-b3dd-c666f14e694b",
   "metadata": {},
   "outputs": [
    {
     "data": {
      "image/png": "[encoded data removed]",
      "text/plain": [
       "<Figure size 432x288 with 1 Axes>"
      ]
     },
     "metadata": {
      "needs_background": "light"
     },
     "output_type": "display_data"
    }
   ],
   "source": [
    "plt.hist(df['price'])\n",
    "\n",
    "plt.show()"
   ]
  },
  {
   "cell_type": "markdown",
   "id": "e4c1becc-433c-4fa1-b957-6e0ab43b3429",
   "metadata": {},
   "source": [
    "After looking that distriution above we can say that our values with lower prices more than higher prices on a dataset. Here we can see one tall peak on the `left-hand side`, and a very `long right-tail` along the `x-axis`. It might be beneficial to try plotting the distribution of transformed values of `price` instead. \n",
    "\n",
    "That histogram provides a lot more information below than the data in the original form. This is helpful knowledge if we want to build a model to predict `price` values in the future."
   ]
  },
  {
   "cell_type": "code",
   "execution_count": 387,
   "id": "e772ad7d-0212-48f5-8aa2-3ef0d76928b7",
   "metadata": {},
   "outputs": [],
   "source": [
    "# finding positive price values\n",
    "log_pos_price = (df.price[df.price > 0])"
   ]
  },
  {
   "cell_type": "code",
   "execution_count": 388,
   "id": "996c71e6-69d8-487d-86d6-9bae7686ed14",
   "metadata": {},
   "outputs": [],
   "source": [
    "# log transformation of price values and adding to the DataFrame as a new column\n",
    "df['log_price'] = np.log(log_pos_price)"
   ]
  },
  {
   "cell_type": "code",
   "execution_count": 389,
   "id": "514c9d89-e560-4de6-83cc-8eaed5b8a191",
   "metadata": {},
   "outputs": [
    {
     "data": {
      "image/png": "[encoded data removed]",
      "text/plain": [
       "<Figure size 576x432 with 1 Axes>"
      ]
     },
     "metadata": {
      "needs_background": "light"
     },
     "output_type": "display_data"
    }
   ],
   "source": [
    "# distribution of the transformed price values\n",
    "plt.figure(figsize = (8, 6))\n",
    "\n",
    "sns.distplot(df['log_price'] , kde = True)\n",
    "plt.title('Distribution of Transformed Values of Price ')\n",
    "plt.xlabel('Prices')\n",
    "plt.xlim(0, 10)\n",
    "\n",
    "plt.show()"
   ]
  },
  {
   "cell_type": "code",
   "execution_count": 390,
   "id": "cb2ce8b5-5b29-4dfe-a5be-46a43b99fc4f",
   "metadata": {},
   "outputs": [],
   "source": [
    "# dropping price column after creating the appropriate log_prices column for dataset\n",
    "df.drop('price', axis = 1, inplace = True)"
   ]
  },
  {
   "cell_type": "markdown",
   "id": "4c2b6c7b-6b7f-444a-96cc-2953ec1039f3",
   "metadata": {
    "tags": []
   },
   "source": [
    "#### Scatter Plot"
   ]
  },
  {
   "cell_type": "markdown",
   "id": "17231228-1f27-44ac-b559-038af2e61452",
   "metadata": {},
   "source": [
    "Next, let’s create a scatter plot using Python’s seaborn library. Scatter plots are a commonly used data `visualisation` tool. They allow us to identify and determine if there is a `relationship` (correlation) `between two variables` and the strength of that relationship.\n",
    "\n",
    "After checking the relationships between variables, we can say that the `highest prices` almost were shown around `2018`. In contrary, the lowest prices were around `2014`."
   ]
  },
  {
   "cell_type": "code",
   "execution_count": 391,
   "id": "0ad54215-6f87-49c6-b352-7d8b1983f50a",
   "metadata": {},
   "outputs": [
    {
     "data": {
      "text/plain": [
       "array([2015, 2017, 2014, 2016, 2018], dtype=int64)"
      ]
     },
     "execution_count": 391,
     "metadata": {},
     "output_type": "execute_result"
    }
   ],
   "source": [
    "# checking the unique years\n",
    "df['year_added'].unique()"
   ]
  },
  {
   "cell_type": "code",
   "execution_count": 393,
   "id": "24085ee8-9fc4-41bd-b7bb-891b5f3946f2",
   "metadata": {},
   "outputs": [
    {
     "data": {
      "image/png": "[encoded data removed]",
      "text/plain": [
       "<Figure size 576x432 with 1 Axes>"
      ]
     },
     "metadata": {
      "needs_background": "light"
     },
     "output_type": "display_data"
    }
   ],
   "source": [
    "# creating scatter plot checking the correlation between price and added_year\n",
    "plt.figure(figsize = (8, 6))\n",
    "\n",
    "sns.scatterplot(x = 'year_added', y = 'log_price', data = df)\n",
    "\n",
    "plt.show()"
   ]
  },
  {
   "cell_type": "markdown",
   "id": "cf60fdb0-4b9e-4e2b-b52e-9a055075e98a",
   "metadata": {},
   "source": [
    "Now let's investigate some of the different features which can have more impact on `price` column. In this period pandas helpful `.corr()` method that allows us to see the correlation coefficients for each `numerical pair` of our different features. As we now, if we have correlation coefficients close to `1 or -1` mean that we have `positive` or `negative` linear relationships accordingly. "
   ]
  },
  {
   "cell_type": "code",
   "execution_count": 394,
   "id": "cf60d623-b78d-4ce2-855f-768efc317fc8",
   "metadata": {},
   "outputs": [
    {
     "data": {
      "image/png": "[encoded data removed]",
      "text/plain": [
       "<Figure size 720x432 with 2 Axes>"
      ]
     },
     "metadata": {
      "needs_background": "light"
     },
     "output_type": "display_data"
    }
   ],
   "source": [
    "# correlation heatmap for dataset\n",
    "plt.figure(figsize = (10, 6))\n",
    "\n",
    "sns.heatmap(df.corr(), \n",
    "            vmin = -1, center = 0, vmax = 1,\n",
    "            annot = True, cmap = 'YlGnBu', linewidth = .5)\n",
    "\n",
    "plt.show()"
   ]
  },
  {
   "cell_type": "markdown",
   "id": "6f2428ce-a30f-416b-989b-8323dc679600",
   "metadata": {
    "tags": []
   },
   "source": [
    "#### Boxplot"
   ]
  },
  {
   "cell_type": "markdown",
   "id": "f50423c3-a13e-4e89-927f-a774c84413d5",
   "metadata": {},
   "source": [
    "In descriptive statistics, a box plot or boxplot (also known as box and whisker plot) is a type of chart often used in data analysis. `Box plots` visually show the `distribution of numerical data` and `skewness` through displaying the data quartiles (or percentiles) and averages. In here, I will use the `primaryCategories` column depending on their prices. "
   ]
  },
  {
   "cell_type": "markdown",
   "id": "d949c662-47e1-4e53-bf6e-f2e2460782f5",
   "metadata": {},
   "source": [
    "This plot indicates below that `prices` for `Apple CarPlay` and `Electronics,Furniture` products almost tend to be higher and have `less variation` than prices for other categories mean that customers can see `higher prices` at store. Additionally, `electronic` products have `more variation `than other categories. It `means` that customers can encounter with `different prices` for electronic products. "
   ]
  },
  {
   "cell_type": "code",
   "execution_count": 321,
   "id": "5dacb1fd-eab1-4ac4-b77b-1b9b3665910d",
   "metadata": {},
   "outputs": [
    {
     "data": {
      "image/png": "[encoded data removed]",
      "text/plain": [
       "<Figure size 576x432 with 1 Axes>"
      ]
     },
     "metadata": {
      "needs_background": "light"
     },
     "output_type": "display_data"
    }
   ],
   "source": [
    "plt.figure(figsize = (8, 6))\n",
    "\n",
    "sns.boxplot(x='primaryCategories', y='log_price', \n",
    "            data=df, palette='Accent')\n",
    "\n",
    "plt.show()"
   ]
  },
  {
   "cell_type": "markdown",
   "id": "7adac4cb-eb92-4cde-bade-f41318299617",
   "metadata": {},
   "source": [
    "The good option for investigating the relationship between a `quantitative variable` and a `categorical variable` are side-by-side or grouped box plots. We can compare all `primaryCategories` products with their `added year` and `prices` below. We can say that almost  all categories are added to the list between 2015 and 2017. Electronic products were sold during all the years in a given dataset."
   ]
  },
  {
   "cell_type": "code",
   "execution_count": 396,
   "id": "75051c92-ff67-4e25-928f-57843f0b05b8",
   "metadata": {},
   "outputs": [
    {
     "data": {
      "image/png": "[encoded data removed]",
      "text/plain": [
       "<Figure size 576x432 with 1 Axes>"
      ]
     },
     "metadata": {
      "needs_background": "light"
     },
     "output_type": "display_data"
    }
   ],
   "source": [
    "plt.figure(figsize = (8, 6))\n",
    "\n",
    "sns.boxplot(x='year_added', y='log_price', hue = 'primaryCategories', \n",
    "            data=df, palette='Accent')\n",
    "\n",
    "plt.show()"
   ]
  },
  {
   "cell_type": "code",
   "execution_count": null,
   "id": "4bc009e8-78cc-4ec9-aca2-b16a4e556c23",
   "metadata": {},
   "outputs": [],
   "source": []
  }
 ],
 "metadata": {
  "kernelspec": {
   "display_name": "Python 3",
   "language": "python",
   "name": "python3"
  },
  "language_info": {
   "codemirror_mode": {
    "name": "ipython",
    "version": 3
   },
   "file_extension": ".py",
   "mimetype": "text/x-python",
   "name": "python",
   "nbconvert_exporter": "python",
   "pygments_lexer": "ipython3",
   "version": "3.9.1"
  }
 },
 "nbformat": 4,
 "nbformat_minor": 5
}
